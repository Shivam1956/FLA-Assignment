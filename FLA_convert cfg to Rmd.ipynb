{
 "cells": [
  {
   "cell_type": "code",
   "execution_count": 3,
   "id": "8faec2af",
   "metadata": {},
   "outputs": [
    {
     "name": "stdout",
     "output_type": "stream",
     "text": [
      "baabbc\n"
     ]
    }
   ],
   "source": [
    "def convert_to_rightmost_derivation(grammar, input_string):\n",
    "    def find_production(non_terminal):\n",
    "        for production in grammar[non_terminal]:\n",
    "            if production[0].isupper():\n",
    "                return find_production(production[0])\n",
    "            else:\n",
    "                return production\n",
    "\n",
    "    derivation = []\n",
    "    stack = [input_string]\n",
    "    while stack:\n",
    "        current_symbol = stack.pop()\n",
    "        if current_symbol.isupper():\n",
    "            production = find_production(current_symbol)\n",
    "            stack.extend(production[::-1])\n",
    "            derivation.append(' -> '.join(production))\n",
    "        else:\n",
    "            derivation.append(current_symbol)\n",
    "\n",
    "    return derivation[::-1]\n",
    "\n",
    "\n",
    "\n",
    "grammar = {\n",
    "    'S': ['AB', 'BC'],\n",
    "    'A': ['a'],\n",
    "    'B': ['b'],\n",
    "    'C': ['c']\n",
    "}\n",
    "\n",
    "input_string = 'baabbc'\n",
    "rightmost_derivation = convert_to_rightmost_derivation(grammar, input_string)\n",
    "print(' -> '.join(rightmost_derivation))\n"
   ]
  },
  {
   "cell_type": "code",
   "execution_count": 4,
   "id": "b2b9a5ac",
   "metadata": {},
   "outputs": [],
   "source": [
    "import tkinter as tk\n",
    "\n",
    "def convert_to_rightmost_derivation():\n",
    "    grammar = {\n",
    "        'S': ['AB', 'BC'],\n",
    "        'A': ['a'],\n",
    "        'B': ['b'],\n",
    "        'C': ['c']\n",
    "    }\n",
    "    input_string = input_entry.get()\n",
    "    derivation = convert_to_rightmost_derivation_recursive(grammar, input_string)\n",
    "    output_label.config(text=' -> '.join(derivation))\n",
    "\n",
    "def convert_to_rightmost_derivation_recursive(grammar, input_string):\n",
    "    def find_production(non_terminal):\n",
    "        for production in grammar[non_terminal]:\n",
    "            if production[0].isupper():\n",
    "                inner_production = find_production(production[0])\n",
    "                if inner_production:\n",
    "                    return inner_production + production[1:]\n",
    "            else:\n",
    "                return production\n",
    "\n",
    "    stack = [input_string]\n",
    "    derivation = []\n",
    "    while stack:\n",
    "        current_symbol = stack.pop()\n",
    "        if current_symbol.isupper():\n",
    "            production = find_production(current_symbol)\n",
    "            if production:\n",
    "                stack.extend(production[::-1])\n",
    "                derivation.append(' -> '.join(production))\n",
    "        else:\n",
    "            derivation.append(current_symbol)\n",
    "\n",
    "    return derivation[::-1]\n",
    "\n",
    "\n",
    "root = tk.Tk()\n",
    "root.title('CFG to Rightmost Derivation Converter')\n",
    "\n",
    "input_label = tk.Label(root, text='Enter input string:')\n",
    "input_label.pack()\n",
    "\n",
    "input_entry = tk.Entry(root, width=30)\n",
    "input_entry.pack()\n",
    "\n",
    "convert_button = tk.Button(root, text='Convert', command=convert_to_rightmost_derivation)\n",
    "convert_button.pack()\n",
    "\n",
    "output_label = tk.Label(root, text='')\n",
    "output_label.pack()\n",
    "\n",
    "root.mainloop()\n"
   ]
  },
  {
   "cell_type": "code",
   "execution_count": null,
   "id": "c64538e3",
   "metadata": {},
   "outputs": [],
   "source": []
  }
 ],
 "metadata": {
  "kernelspec": {
   "display_name": "Python 3 (ipykernel)",
   "language": "python",
   "name": "python3"
  },
  "language_info": {
   "codemirror_mode": {
    "name": "ipython",
    "version": 3
   },
   "file_extension": ".py",
   "mimetype": "text/x-python",
   "name": "python",
   "nbconvert_exporter": "python",
   "pygments_lexer": "ipython3",
   "version": "3.11.4"
  }
 },
 "nbformat": 4,
 "nbformat_minor": 5
}
